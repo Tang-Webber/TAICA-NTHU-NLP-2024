{
 "cells": [
  {
   "cell_type": "markdown",
   "metadata": {},
   "source": [
    "# LSTM-arithmetic\n",
    "\n",
    "## Dataset\n",
    "- [Arithmetic dataset](https://drive.google.com/file/d/1cMuL3hF9jefka9RyF4gEBIGGeFGZYHE-/view?usp=sharing)"
   ]
  },
  {
   "cell_type": "code",
   "execution_count": 1,
   "metadata": {},
   "outputs": [],
   "source": [
    "#!python -m pip install seaborn\n",
    "#!python -m pip install opencc\n",
    "#!python -m pip install -U scikit-learn"
   ]
  },
  {
   "cell_type": "code",
   "execution_count": 2,
   "metadata": {},
   "outputs": [],
   "source": [
    "#!python -m pip install torch torchvision torchaudio --index-url https://download.pytorch.org/whl/cu121"
   ]
  },
  {
   "cell_type": "code",
   "execution_count": 3,
   "metadata": {},
   "outputs": [],
   "source": [
    "import numpy as np\n",
    "import pandas as pd\n",
    "import torch\n",
    "import torch.nn\n",
    "import torch.nn.utils.rnn\n",
    "import torch.utils.data\n",
    "import matplotlib.pyplot as plt\n",
    "import seaborn as sns\n",
    "import opencc\n",
    "import os\n",
    "from sklearn.model_selection import train_test_split\n",
    "\n",
    "data_path = './data'"
   ]
  },
  {
   "cell_type": "code",
   "execution_count": 4,
   "metadata": {},
   "outputs": [
    {
     "data": {
      "text/html": [
       "<div>\n",
       "<style scoped>\n",
       "    .dataframe tbody tr th:only-of-type {\n",
       "        vertical-align: middle;\n",
       "    }\n",
       "\n",
       "    .dataframe tbody tr th {\n",
       "        vertical-align: top;\n",
       "    }\n",
       "\n",
       "    .dataframe thead th {\n",
       "        text-align: right;\n",
       "    }\n",
       "</style>\n",
       "<table border=\"1\" class=\"dataframe\">\n",
       "  <thead>\n",
       "    <tr style=\"text-align: right;\">\n",
       "      <th></th>\n",
       "      <th>src</th>\n",
       "      <th>tgt</th>\n",
       "    </tr>\n",
       "  </thead>\n",
       "  <tbody>\n",
       "    <tr>\n",
       "      <th>0</th>\n",
       "      <td>14*(43+20)=</td>\n",
       "      <td>882</td>\n",
       "    </tr>\n",
       "    <tr>\n",
       "      <th>1</th>\n",
       "      <td>(6+1)*5=</td>\n",
       "      <td>35</td>\n",
       "    </tr>\n",
       "    <tr>\n",
       "      <th>2</th>\n",
       "      <td>13+32+29=</td>\n",
       "      <td>74</td>\n",
       "    </tr>\n",
       "    <tr>\n",
       "      <th>3</th>\n",
       "      <td>31*(3-11)=</td>\n",
       "      <td>-248</td>\n",
       "    </tr>\n",
       "    <tr>\n",
       "      <th>4</th>\n",
       "      <td>24*49+1=</td>\n",
       "      <td>1177</td>\n",
       "    </tr>\n",
       "  </tbody>\n",
       "</table>\n",
       "</div>"
      ],
      "text/plain": [
       "           src   tgt\n",
       "0  14*(43+20)=   882\n",
       "1     (6+1)*5=    35\n",
       "2    13+32+29=    74\n",
       "3   31*(3-11)=  -248\n",
       "4     24*49+1=  1177"
      ]
     },
     "execution_count": 4,
     "metadata": {},
     "output_type": "execute_result"
    }
   ],
   "source": [
    "df_train = pd.read_csv(os.path.join(data_path, 'arithmetic_train.csv'))\n",
    "df_eval = pd.read_csv(os.path.join(data_path, 'arithmetic_eval.csv'))\n",
    "df_train = df_train.drop('Unnamed: 0', axis=1)\n",
    "df_eval = df_eval.drop('Unnamed: 0', axis=1)\n",
    "df_train.head()"
   ]
  },
  {
   "cell_type": "code",
   "execution_count": 5,
   "metadata": {},
   "outputs": [],
   "source": [
    "# transform the input data to string\n",
    "df_train['tgt'] = df_train['tgt'].apply(lambda x: str(x))\n",
    "df_train['src'] = df_train['src'].add(df_train['tgt'])\n",
    "df_train['len'] = df_train['src'].apply(lambda x: len(x))\n",
    "\n",
    "df_eval['tgt'] = df_eval['tgt'].apply(lambda x: str(x))\n",
    "df_eval['src'] = df_eval['src'].add(df_eval['tgt'])\n",
    "df_eval['len'] = df_eval['src'].apply(lambda x: len(x))"
   ]
  },
  {
   "cell_type": "markdown",
   "metadata": {},
   "source": [
    "# Build Dictionary\n",
    " - The model cannot perform calculations directly with plain text.\n",
    " - Convert all text (numbers/symbols) into numerical representations.\n",
    " - Special tokens\n",
    "    - '&lt;pad&gt;'\n",
    "        - Each sentence within a batch may have different lengths.\n",
    "        - The length is padded with '&lt;pad&gt;' to match the longest sentence in the batch.\n",
    "    - '&lt;eos&gt;'\n",
    "        - Specifies the end of the generated sequence.\n",
    "        - Without '&lt;eos&gt;', the model will not know when to stop generating."
   ]
  },
  {
   "cell_type": "code",
   "execution_count": 6,
   "metadata": {},
   "outputs": [
    {
     "data": {
      "text/plain": [
       "\"\\nchar_to_id['<pad>'] = 0\\nchar_to_id['<eos>'] = 1\\nid_to_char[0] = '<pad>'\\nid_to_char[1] = '<eos>'\\n\\nfor i in range(10):\\n    char_to_id[str(i)] = len(char_to_id)\\n    id_to_char[len(id_to_char)] = str(i)\\n\\nfor char in ['+', '-', '*', '(', ')', '=']:\\n    char_to_id[char] = len(char_to_id)\\n    id_to_char[len(id_to_char)] = char\\n\\nvocab_size = len(char_to_id)\\nprint('Vocab size: {}'.format(vocab_size))\\n\""
      ]
     },
     "execution_count": 6,
     "metadata": {},
     "output_type": "execute_result"
    }
   ],
   "source": [
    "\"\"\"\n",
    "char_to_id['<pad>'] = 0\n",
    "char_to_id['<eos>'] = 1\n",
    "id_to_char[0] = '<pad>'\n",
    "id_to_char[1] = '<eos>'\n",
    "\n",
    "for i in range(10):\n",
    "    char_to_id[str(i)] = len(char_to_id)\n",
    "    id_to_char[len(id_to_char)] = str(i)\n",
    "\n",
    "for char in ['+', '-', '*', '(', ')', '=']:\n",
    "    char_to_id[char] = len(char_to_id)\n",
    "    id_to_char[len(id_to_char)] = char\n",
    "\n",
    "vocab_size = len(char_to_id)\n",
    "print('Vocab size: {}'.format(vocab_size))\n",
    "\"\"\""
   ]
  },
  {
   "cell_type": "code",
   "execution_count": 7,
   "metadata": {},
   "outputs": [
    {
     "name": "stdout",
     "output_type": "stream",
     "text": [
      "Vocab size: 18\n",
      "char_to_id: {'<pad>': 0, '<eos>': 1, '(': 2, ')': 3, '*': 4, '+': 5, '-': 6, '0': 7, '1': 8, '2': 9, '3': 10, '4': 11, '5': 12, '6': 13, '7': 14, '8': 15, '9': 16, '=': 17}\n",
      "id_to_char: {0: '<pad>', 1: '<eos>', 2: '(', 3: ')', 4: '*', 5: '+', 6: '-', 7: '0', 8: '1', 9: '2', 10: '3', 11: '4', 12: '5', 13: '6', 14: '7', 15: '8', 16: '9', 17: '='}\n"
     ]
    }
   ],
   "source": [
    "char_to_id = {}\n",
    "id_to_char = {}\n",
    "\n",
    "# write your code here\n",
    "# Build a dictionary and give every token in the train dataset an id\n",
    "# The dictionary should contain <eos> and <pad>\n",
    "# char_to_id is to conver charactors to ids, while id_to_char is the opposite\n",
    "\n",
    "char_to_id = {'<pad>': 0, '<eos>': 1}\n",
    "id_to_char = {0: '<pad>', 1: '<eos>'}\n",
    "\n",
    "unique_chars = set(''.join(df_train['src']) + ''.join(df_train['tgt']))\n",
    "for char in sorted(unique_chars):\n",
    "    if char not in char_to_id:\n",
    "        id = len(char_to_id)\n",
    "        char_to_id[char] = id\n",
    "        id_to_char[id] = char\n",
    "\n",
    "vocab_size = len(char_to_id)\n",
    "print('Vocab size:', vocab_size)\n",
    "\n",
    "print(\"char_to_id:\", char_to_id)\n",
    "print(\"id_to_char:\", id_to_char)"
   ]
  },
  {
   "cell_type": "markdown",
   "metadata": {},
   "source": [
    "# Data Preprocessing\n",
    " - The data is processed into the format required for the model's input and output.\n",
    " - Example: 1+2-3=0\n",
    "     - Model input: 1 + 2 - 3 = 0\n",
    "     - Model output: / / / / / 0 &lt;eos&gt;  (the '/' can be replaced with &lt;pad&gt;)\n",
    "     - The key for the model's output is that the model does not need to predict the next character of the previous part. What matters is that once the model sees '=', it should start generating the answer, which is '0'. After generating the answer, it should also generate&lt;eos&gt;\n"
   ]
  },
  {
   "cell_type": "code",
   "execution_count": 8,
   "metadata": {},
   "outputs": [
    {
     "data": {
      "text/plain": [
       "\"\\nchar_id_list = []\\nlabel_id_list = []\\nfor expression, answer in zip(df_train['src'], df_train['tgt']):\\n    char_id = []\\n    label_id = []\\n    char_id = [char_to_id[char] for char in expression]\\n    char_id.append(char_to_id['<eos>'])\\n    char_id_list.append(char_id)\\n    \\n    label_id = [char_to_id['<pad>']] * (len(expression) - len(answer))\\n    for char in answer:\\n        label_id.append(char_to_id[char])\\n    label_id.append(char_to_id['<eos>'])\\n    label_id_list.append(label_id)\\n\\ndf_train['char_id_list'] = char_id_list\\ndf_train['label_id_list'] = label_id_list\\ndf_train.head()\\n#df.head()\\n\""
      ]
     },
     "execution_count": 8,
     "metadata": {},
     "output_type": "execute_result"
    }
   ],
   "source": [
    "\"\"\"\n",
    "char_id_list = []\n",
    "label_id_list = []\n",
    "for expression, answer in zip(df_train['src'], df_train['tgt']):\n",
    "    char_id = []\n",
    "    label_id = []\n",
    "    char_id = [char_to_id[char] for char in expression]\n",
    "    char_id.append(char_to_id['<eos>'])\n",
    "    char_id_list.append(char_id)\n",
    "    \n",
    "    label_id = [char_to_id['<pad>']] * (len(expression) - len(answer))\n",
    "    for char in answer:\n",
    "        label_id.append(char_to_id[char])\n",
    "    label_id.append(char_to_id['<eos>'])\n",
    "    label_id_list.append(label_id)\n",
    "\n",
    "df_train['char_id_list'] = char_id_list\n",
    "df_train['label_id_list'] = label_id_list\n",
    "df_train.head()\n",
    "#df.head()\n",
    "\"\"\""
   ]
  },
  {
   "cell_type": "code",
   "execution_count": 9,
   "metadata": {},
   "outputs": [
    {
     "data": {
      "text/html": [
       "<div>\n",
       "<style scoped>\n",
       "    .dataframe tbody tr th:only-of-type {\n",
       "        vertical-align: middle;\n",
       "    }\n",
       "\n",
       "    .dataframe tbody tr th {\n",
       "        vertical-align: top;\n",
       "    }\n",
       "\n",
       "    .dataframe thead th {\n",
       "        text-align: right;\n",
       "    }\n",
       "</style>\n",
       "<table border=\"1\" class=\"dataframe\">\n",
       "  <thead>\n",
       "    <tr style=\"text-align: right;\">\n",
       "      <th></th>\n",
       "      <th>src</th>\n",
       "      <th>tgt</th>\n",
       "      <th>len</th>\n",
       "      <th>char_id_list</th>\n",
       "      <th>label_id_list</th>\n",
       "    </tr>\n",
       "  </thead>\n",
       "  <tbody>\n",
       "    <tr>\n",
       "      <th>0</th>\n",
       "      <td>48+43+34=125</td>\n",
       "      <td>125</td>\n",
       "      <td>12</td>\n",
       "      <td>[11, 15, 5, 11, 10, 5, 10, 11, 17, 8, 9, 12, 1]</td>\n",
       "      <td>[0, 0, 0, 0, 0, 0, 0, 0, 0, 8, 9, 12, 1]</td>\n",
       "    </tr>\n",
       "    <tr>\n",
       "      <th>1</th>\n",
       "      <td>30-(48+13)=-31</td>\n",
       "      <td>-31</td>\n",
       "      <td>14</td>\n",
       "      <td>[10, 7, 6, 2, 11, 15, 5, 8, 10, 3, 17, 6, 10, ...</td>\n",
       "      <td>[0, 0, 0, 0, 0, 0, 0, 0, 0, 0, 0, 6, 10, 8, 1]</td>\n",
       "    </tr>\n",
       "    <tr>\n",
       "      <th>2</th>\n",
       "      <td>(21*31)+10=661</td>\n",
       "      <td>661</td>\n",
       "      <td>14</td>\n",
       "      <td>[2, 9, 8, 4, 10, 8, 3, 5, 8, 7, 17, 13, 13, 8, 1]</td>\n",
       "      <td>[0, 0, 0, 0, 0, 0, 0, 0, 0, 0, 0, 13, 13, 8, 1]</td>\n",
       "    </tr>\n",
       "    <tr>\n",
       "      <th>3</th>\n",
       "      <td>2-27-10=-35</td>\n",
       "      <td>-35</td>\n",
       "      <td>11</td>\n",
       "      <td>[9, 6, 9, 14, 6, 8, 7, 17, 6, 10, 12, 1]</td>\n",
       "      <td>[0, 0, 0, 0, 0, 0, 0, 0, 6, 10, 12, 1]</td>\n",
       "    </tr>\n",
       "    <tr>\n",
       "      <th>4</th>\n",
       "      <td>(15*20)+24=324</td>\n",
       "      <td>324</td>\n",
       "      <td>14</td>\n",
       "      <td>[2, 8, 12, 4, 9, 7, 3, 5, 9, 11, 17, 10, 9, 11...</td>\n",
       "      <td>[0, 0, 0, 0, 0, 0, 0, 0, 0, 0, 0, 10, 9, 11, 1]</td>\n",
       "    </tr>\n",
       "  </tbody>\n",
       "</table>\n",
       "</div>"
      ],
      "text/plain": [
       "              src  tgt  len  \\\n",
       "0    48+43+34=125  125   12   \n",
       "1  30-(48+13)=-31  -31   14   \n",
       "2  (21*31)+10=661  661   14   \n",
       "3     2-27-10=-35  -35   11   \n",
       "4  (15*20)+24=324  324   14   \n",
       "\n",
       "                                        char_id_list  \\\n",
       "0    [11, 15, 5, 11, 10, 5, 10, 11, 17, 8, 9, 12, 1]   \n",
       "1  [10, 7, 6, 2, 11, 15, 5, 8, 10, 3, 17, 6, 10, ...   \n",
       "2  [2, 9, 8, 4, 10, 8, 3, 5, 8, 7, 17, 13, 13, 8, 1]   \n",
       "3           [9, 6, 9, 14, 6, 8, 7, 17, 6, 10, 12, 1]   \n",
       "4  [2, 8, 12, 4, 9, 7, 3, 5, 9, 11, 17, 10, 9, 11...   \n",
       "\n",
       "                                     label_id_list  \n",
       "0         [0, 0, 0, 0, 0, 0, 0, 0, 0, 8, 9, 12, 1]  \n",
       "1   [0, 0, 0, 0, 0, 0, 0, 0, 0, 0, 0, 6, 10, 8, 1]  \n",
       "2  [0, 0, 0, 0, 0, 0, 0, 0, 0, 0, 0, 13, 13, 8, 1]  \n",
       "3           [0, 0, 0, 0, 0, 0, 0, 0, 6, 10, 12, 1]  \n",
       "4  [0, 0, 0, 0, 0, 0, 0, 0, 0, 0, 0, 10, 9, 11, 1]  "
      ]
     },
     "execution_count": 9,
     "metadata": {},
     "output_type": "execute_result"
    }
   ],
   "source": [
    "# Write your code here\n",
    "\n",
    "def preprocess_data(df):\n",
    "    df['char_id_list'] = df['src'].apply(lambda x: [char_to_id[c] for c in x] + [char_to_id['<eos>']])\n",
    "    df['label_id_list'] = df['src'].apply(lambda x: [char_to_id['<pad>']] * (len(x) - len(x.split('=')[1])) + \n",
    "                                                    [char_to_id[c] for c in x.split('=')[1]] + \n",
    "                                                    [char_to_id['<eos>']])\n",
    "    return df\n",
    "\n",
    "df_train = preprocess_data(df_train)\n",
    "df_eval = preprocess_data(df_eval)\n",
    "df_train.head()\n",
    "df_eval.head()"
   ]
  },
  {
   "cell_type": "markdown",
   "metadata": {},
   "source": [
    "# Hyper Parameters\n",
    "\n",
    "|Hyperparameter|Meaning|Value|\n",
    "|-|-|-|\n",
    "|`batch_size`|Number of data samples in a single batch|64|\n",
    "|`epochs`|Total number of epochs to train|10|\n",
    "|`embed_dim`|Dimension of the word embeddings|256|\n",
    "|`hidden_dim`|Dimension of the hidden state in each timestep of the LSTM|256|\n",
    "|`lr`|Learning Rate|0.001|\n",
    "|`grad_clip`|To prevent gradient explosion in RNNs, restrict the gradient range|1|"
   ]
  },
  {
   "cell_type": "code",
   "execution_count": 10,
   "metadata": {},
   "outputs": [],
   "source": [
    "batch_size = 64\n",
    "epochs = 10\n",
    "embed_dim = 256\n",
    "hidden_dim = 256\n",
    "lr = 0.0005\n",
    "grad_clip = 1"
   ]
  },
  {
   "cell_type": "markdown",
   "metadata": {},
   "source": [
    "# Data Batching\n",
    "- Use `torch.utils.data.Dataset` to create a data generation tool called  `dataset`.\n",
    "- The, use `torch.utils.data.DataLoader` to randomly sample from the `dataset` and group the samples into batches."
   ]
  },
  {
   "cell_type": "code",
   "execution_count": 11,
   "metadata": {},
   "outputs": [],
   "source": [
    "class Dataset(torch.utils.data.Dataset):\n",
    "    def __init__(self, sequences):\n",
    "        self.sequences = sequences\n",
    "    \n",
    "    def __len__(self):\n",
    "        # return the amount of data\n",
    "        return len(self.sequences)\n",
    "    \n",
    "    def __getitem__(self, index):\n",
    "        # Extract the input data x and the ground truth y from the data\n",
    "        # https://pandas.pydata.org/docs/reference/api/pandas.DataFrame.iloc.html\n",
    "        \n",
    "        x = [char_to_id['<eos>']] + self.sequences.iloc[index]['char_id_list']   \n",
    "        y = self.sequences.iloc[index]['label_id_list'] + [char_to_id['<pad>']]\n",
    "        \n",
    "        #x = x[:x.index(char_to_id['=']) + 1] + [char_to_id['<pad>']] * (len(x) - x.index(char_to_id['=']) - 2) + [char_to_id['<eos>']]\n",
    "        #y = y[(max([i for i, label in enumerate(y) if label == char_to_id['<pad>']], default=-1) + 1):]\n",
    "        #print(x)\n",
    "        #print(y)\n",
    "        #print(\"--------------------\")\n",
    "        return x, y\n",
    "\n",
    "# collate function, used to build dataloader\n",
    "def collate_fn(batch):\n",
    "    batch_x = [torch.tensor(data[0]) for data in batch]\n",
    "    batch_y = [torch.tensor(data[1]) for data in batch]\n",
    "    batch_x_lens = torch.LongTensor([len(x) for x in batch_x])\n",
    "    batch_y_lens = torch.LongTensor([len(y) for y in batch_y])\n",
    "    \n",
    "    # Pad the input sequence\n",
    "    pad_batch_x = torch.nn.utils.rnn.pad_sequence(batch_x,\n",
    "                                                  batch_first=True,\n",
    "                                                  padding_value=char_to_id['<pad>'])\n",
    "    \n",
    "    pad_batch_y = torch.nn.utils.rnn.pad_sequence(batch_y,\n",
    "                                                  batch_first=True,\n",
    "                                                  padding_value=char_to_id['<pad>'])\n",
    "    \n",
    "    return pad_batch_x, pad_batch_y, batch_x_lens, batch_y_lens"
   ]
  },
  {
   "cell_type": "code",
   "execution_count": 12,
   "metadata": {},
   "outputs": [],
   "source": [
    "ds_train = Dataset(df_train[['char_id_list', 'label_id_list']])\n",
    "ds_eval = Dataset(df_eval[['char_id_list', 'label_id_list']])"
   ]
  },
  {
   "cell_type": "code",
   "execution_count": 13,
   "metadata": {},
   "outputs": [],
   "source": [
    "# Build dataloader of train set and eval set, collate_fn is the collate function\n",
    "dl_train = torch.utils.data.DataLoader(ds_train, \n",
    "                                       batch_size=batch_size, \n",
    "                                       shuffle=True, \n",
    "                                       collate_fn=collate_fn)\n",
    "\n",
    "dl_eval = torch.utils.data.DataLoader(ds_eval, \n",
    "                                      batch_size=batch_size,\n",
    "                                      shuffle=False, \n",
    "                                      collate_fn=collate_fn)"
   ]
  },
  {
   "cell_type": "markdown",
   "metadata": {},
   "source": [
    "# Model Design\n",
    "\n",
    "## Execution Flow\n",
    "1. Convert all characters in the sentence into embeddings.\n",
    "2. Pass the embeddings through an LSTM sequentially.\n",
    "3. The output of the LSTM is passed into another LSTM, and additional layers can be added.\n",
    "4. The output from all time steps of the final LSTM is passed through a Fully Connected layer.\n",
    "5. The character corresponding to the maximum value across all output dimensions is selected as the next character.\n",
    "\n",
    "## Loss Function\n",
    "Since this is a classification task, Cross Entropy is used as the loss function.\n",
    "\n",
    "## Gradient Update\n",
    "Adam algorithm is used for gradient updates."
   ]
  },
  {
   "cell_type": "code",
   "execution_count": 14,
   "metadata": {},
   "outputs": [],
   "source": [
    "class CharRNN(torch.nn.Module):\n",
    "    def __init__(self, vocab_size, embed_dim, hidden_dim):\n",
    "        super(CharRNN, self).__init__()\n",
    "        \n",
    "        self.embedding = torch.nn.Embedding(num_embeddings=vocab_size,\n",
    "                                            embedding_dim=embed_dim,\n",
    "                                            padding_idx=char_to_id['<pad>'])\n",
    "        \n",
    "        self.rnn_layer1 = torch.nn.LSTM(input_size=embed_dim,\n",
    "                                        hidden_size=hidden_dim,\n",
    "                                        batch_first=True)\n",
    "        \n",
    "        self.rnn_layer2 = torch.nn.LSTM(input_size=hidden_dim,\n",
    "                                        hidden_size=hidden_dim,\n",
    "                                        batch_first=True)\n",
    "        \n",
    "        self.linear = torch.nn.Sequential(torch.nn.Linear(in_features=hidden_dim,\n",
    "                                                          out_features=hidden_dim),\n",
    "                                          torch.nn.ReLU(),\n",
    "                                          torch.nn.Linear(in_features=hidden_dim,\n",
    "                                                          out_features=vocab_size))\n",
    "\n",
    "    def forward(self, batch_x, batch_x_lens):\n",
    "        return self.encoder(batch_x, batch_x_lens)\n",
    "    \n",
    "    # The forward pass of the model\n",
    "    def encoder(self, batch_x, batch_x_lens):\n",
    "        batch_x = self.embedding(batch_x)\n",
    "        \n",
    "        batch_x = torch.nn.utils.rnn.pack_padded_sequence(batch_x,\n",
    "                                                          batch_x_lens,\n",
    "                                                          batch_first=True,\n",
    "                                                          enforce_sorted=False)\n",
    "        \n",
    "        batch_x, _ = self.rnn_layer1(batch_x)\n",
    "        batch_x, _ = self.rnn_layer2(batch_x)\n",
    "        \n",
    "        batch_x, _ = torch.nn.utils.rnn.pad_packed_sequence(batch_x,\n",
    "                                                            batch_first=True)\n",
    "        \n",
    "        batch_x = self.linear(batch_x)\n",
    "        \n",
    "        return batch_x\n",
    "    \n",
    "    def generator(self, start_char, max_len=200):\n",
    "        \n",
    "        char_list = [char_to_id[c] for c in start_char]\n",
    "        \n",
    "        next_char = None\n",
    "        \n",
    "        # https://pytorch.org/docs/stable/generated/torch.nn.LSTM.html\n",
    "        while len(char_list) < max_len: \n",
    "            # Write your code here \n",
    "            # Pack the char_list to tensor\n",
    "            # Input the tensor to the embedding layer, LSTM layers, linear respectively\n",
    "            #x = torch.tensor(char_to_id['<eos>'] + char_list).unsqueeze(0)\n",
    "            x = torch.tensor([char_to_id['<eos>']] + char_list).unsqueeze(0)\n",
    "\n",
    "            x = self.embedding(x)\n",
    "            x1, _ = self.rnn_layer1(x)\n",
    "            x2, _ = self.rnn_layer2(x1)\n",
    "            out = self.linear(x2) \n",
    "            next_char = torch.argmax(out[0, -1]).item()\n",
    "            \n",
    "            if next_char == char_to_id['<eos>']:\n",
    "                break\n",
    "            \n",
    "            char_list.append(next_char)\n",
    "            \n",
    "        return [id_to_char[ch_id] for ch_id in char_list]"
   ]
  },
  {
   "cell_type": "code",
   "execution_count": 15,
   "metadata": {},
   "outputs": [
    {
     "name": "stdout",
     "output_type": "stream",
     "text": [
      "cuda\n"
     ]
    }
   ],
   "source": [
    "torch.manual_seed(0)\n",
    "\n",
    "device = torch.device(\"cuda\" if torch.cuda.is_available() else \"cpu\")\n",
    "print(device)\n",
    "model = CharRNN(vocab_size,\n",
    "                embed_dim,\n",
    "                hidden_dim).to(device)"
   ]
  },
  {
   "cell_type": "code",
   "execution_count": 16,
   "metadata": {},
   "outputs": [],
   "source": [
    "criterion = torch.nn.CrossEntropyLoss(ignore_index=char_to_id['<pad>'])\n",
    "\n",
    "#optimizer = torch.optim.Adam(model.parameters(), lr=lr)\n",
    "optimizer = torch.optim.RMSprop(model.parameters(), lr=lr, alpha=0.99, eps=1e-08, weight_decay=0)"
   ]
  },
  {
   "cell_type": "markdown",
   "metadata": {},
   "source": [
    "# Training\n",
    "1. The outer `for` loop controls the `epoch`\n",
    "    1. The inner `for` loop uses `data_loader` to retrieve batches.\n",
    "        1. Pass the batch to the `model` for training.\n",
    "        2. Compare the predicted results `batch_pred_y` with the true labels `batch_y` using Cross Entropy to calculate the loss `loss`\n",
    "        3. Use `loss.backward` to automatically compute the gradients.\n",
    "        4. Use `torch.nn.utils.clip_grad_value_` to limit the gradient values between `-grad_clip` &lt; and &lt; `grad_clip`.\n",
    "        5. Use `optimizer.step()` to update the model (backpropagation).\n",
    "2.  After every `1000` batches, output the current loss to monitor whether it is converging."
   ]
  },
  {
   "cell_type": "code",
   "execution_count": 17,
   "metadata": {},
   "outputs": [
    {
     "name": "stderr",
     "output_type": "stream",
     "text": [
      "Train epoch 1: 100%|██████████████████████████████████████████████████| 37020/37020 [12:36<00:00, 48.91it/s, loss=0.326]\n",
      "Validation epoch 1: 100%|███████████████████████████████████████████████████████████| 4114/4114 [00:49<00:00, 83.00it/s]\n"
     ]
    },
    {
     "name": "stdout",
     "output_type": "stream",
     "text": [
      "Epoch 1\n",
      "Training - Loss: 0.5442, Accuracy: 0.4114\n",
      "Validation - Loss: 0.3627, Accuracy: 0.5599\n",
      "--------------------------------------------------\n"
     ]
    },
    {
     "name": "stderr",
     "output_type": "stream",
     "text": [
      "Train epoch 2:  16%|████████▍                                          | 6083/37020 [02:05<10:45, 47.96it/s, loss=0.384]IOPub message rate exceeded.\n",
      "The Jupyter server will temporarily stop sending output\n",
      "to the client in order to avoid crashing it.\n",
      "To change this limit, set the config variable\n",
      "`--ServerApp.iopub_msg_rate_limit`.\n",
      "\n",
      "Current values:\n",
      "ServerApp.iopub_msg_rate_limit=1000.0 (msgs/sec)\n",
      "ServerApp.rate_limit_window=3.0 (secs)\n",
      "\n",
      "Train epoch 4: 100%|██████████████████████████████████████████████████| 37020/37020 [12:29<00:00, 49.39it/s, loss=0.107]\n",
      "Validation epoch 4: 100%|███████████████████████████████████████████████████████████| 4114/4114 [00:49<00:00, 82.97it/s]\n"
     ]
    },
    {
     "name": "stdout",
     "output_type": "stream",
     "text": [
      "Epoch 4\n",
      "Training - Loss: 0.1617, Accuracy: 0.7850\n",
      "Validation - Loss: 0.1460, Accuracy: 0.8037\n",
      "--------------------------------------------------\n"
     ]
    },
    {
     "name": "stderr",
     "output_type": "stream",
     "text": [
      "Train epoch 5: 100%|█████████████████████████████████████████████████| 37020/37020 [12:41<00:00, 48.61it/s, loss=0.0644]\n",
      "Validation epoch 5: 100%|███████████████████████████████████████████████████████████| 4114/4114 [00:49<00:00, 82.76it/s]\n"
     ]
    },
    {
     "name": "stdout",
     "output_type": "stream",
     "text": [
      "Epoch 5\n",
      "Training - Loss: 0.1202, Accuracy: 0.8411\n",
      "Validation - Loss: 0.1490, Accuracy: 0.8140\n",
      "--------------------------------------------------\n"
     ]
    },
    {
     "name": "stderr",
     "output_type": "stream",
     "text": [
      "Train epoch 6: 100%|█████████████████████████████████████████████████| 37020/37020 [12:28<00:00, 49.43it/s, loss=0.0793]\n",
      "Validation epoch 6: 100%|███████████████████████████████████████████████████████████| 4114/4114 [00:49<00:00, 82.53it/s]\n"
     ]
    },
    {
     "name": "stdout",
     "output_type": "stream",
     "text": [
      "Epoch 6\n",
      "Training - Loss: 0.1004, Accuracy: 0.8683\n",
      "Validation - Loss: 0.0946, Accuracy: 0.8768\n",
      "--------------------------------------------------\n"
     ]
    },
    {
     "name": "stderr",
     "output_type": "stream",
     "text": [
      "Train epoch 7: 100%|█████████████████████████████████████████████████| 37020/37020 [12:34<00:00, 49.06it/s, loss=0.0748]\n",
      "Validation epoch 7: 100%|███████████████████████████████████████████████████████████| 4114/4114 [00:49<00:00, 82.86it/s]\n"
     ]
    },
    {
     "name": "stdout",
     "output_type": "stream",
     "text": [
      "Epoch 7\n",
      "Training - Loss: 0.0878, Accuracy: 0.8860\n",
      "Validation - Loss: 0.0878, Accuracy: 0.8900\n",
      "--------------------------------------------------\n"
     ]
    },
    {
     "name": "stderr",
     "output_type": "stream",
     "text": [
      "Train epoch 8: 100%|█████████████████████████████████████████████████| 37020/37020 [12:43<00:00, 48.48it/s, loss=0.0963]\n",
      "Validation epoch 8: 100%|███████████████████████████████████████████████████████████| 4114/4114 [00:49<00:00, 83.04it/s]\n"
     ]
    },
    {
     "name": "stdout",
     "output_type": "stream",
     "text": [
      "Epoch 8\n",
      "Training - Loss: 0.0787, Accuracy: 0.8990\n",
      "Validation - Loss: 0.0734, Accuracy: 0.9089\n",
      "--------------------------------------------------\n"
     ]
    },
    {
     "name": "stderr",
     "output_type": "stream",
     "text": [
      "Train epoch 9: 100%|█████████████████████████████████████████████████| 37020/37020 [12:34<00:00, 49.05it/s, loss=0.0357]\n",
      "Validation epoch 9: 100%|███████████████████████████████████████████████████████████| 4114/4114 [00:49<00:00, 82.92it/s]\n"
     ]
    },
    {
     "name": "stdout",
     "output_type": "stream",
     "text": [
      "Epoch 9\n",
      "Training - Loss: 0.0715, Accuracy: 0.9088\n",
      "Validation - Loss: 0.0701, Accuracy: 0.9112\n",
      "--------------------------------------------------\n"
     ]
    },
    {
     "name": "stderr",
     "output_type": "stream",
     "text": [
      "Train epoch 10: 100%|████████████████████████████████████████████████| 37020/37020 [12:40<00:00, 48.66it/s, loss=0.0457]\n",
      "Validation epoch 10: 100%|██████████████████████████████████████████████████████████| 4114/4114 [00:49<00:00, 82.35it/s]\n"
     ]
    },
    {
     "name": "stdout",
     "output_type": "stream",
     "text": [
      "Epoch 10\n",
      "Training - Loss: 0.0661, Accuracy: 0.9164\n",
      "Validation - Loss: 0.0937, Accuracy: 0.8799\n",
      "--------------------------------------------------\n"
     ]
    },
    {
     "data": {
      "image/png": "[encoded data removed]",
      "text/plain": [
       "<Figure size 1200x400 with 2 Axes>"
      ]
     },
     "metadata": {},
     "output_type": "display_data"
    }
   ],
   "source": [
    "import matplotlib.pyplot as plt\n",
    "from tqdm import tqdm\n",
    "from copy import deepcopy\n",
    "\n",
    "train_losses = []\n",
    "train_accuracies = []\n",
    "eval_losses = []\n",
    "eval_accuracies = []\n",
    "\n",
    "model = model.to(device)\n",
    "model.train()\n",
    "i = 0\n",
    "best = 0\n",
    "\n",
    "for epoch in range(1, epochs+1):\n",
    "    epoch_train_losses = []\n",
    "    epoch_train_matched = 0\n",
    "    epoch_train_total = 0\n",
    "    \n",
    "    bar = tqdm(dl_train, desc=f\"Train epoch {epoch}\")\n",
    "    for batch_x, batch_y, batch_x_lens, batch_y_lens in bar:\n",
    "        # Clear the gradient\n",
    "        optimizer.zero_grad()\n",
    "        \n",
    "        batch_pred_y = model(batch_x.to(device), batch_x_lens)\n",
    "        predictions = torch.argmax(batch_pred_y, dim=-1).to(device)\n",
    "        answer = batch_y.to(device)\n",
    "        \n",
    "        # Input the prediction and ground truths to loss function here\n",
    "        batch_pred_y = batch_pred_y.view(-1, vocab_size)\n",
    "        batch_y = batch_y.to(device).view(-1)\n",
    "        loss = criterion(batch_pred_y, batch_y)\n",
    "        \n",
    "        # Record training loss\n",
    "        epoch_train_losses.append(loss.item())\n",
    "        \n",
    "        # Calculate training accuracy\n",
    "        for pred, target in zip(predictions, answer):\n",
    "            non_zero_indices = torch.nonzero(target, as_tuple=True)[0]\n",
    "            if torch.all(pred[non_zero_indices] == target[non_zero_indices]):\n",
    "                epoch_train_matched += 1\n",
    "            epoch_train_total += 1\n",
    "        \n",
    "        # Back propagation\n",
    "        loss.backward()\n",
    "        torch.nn.utils.clip_grad_value_(model.parameters(), grad_clip)\n",
    "        optimizer.step()\n",
    "        \n",
    "        i+=1\n",
    "        if i%50==0:\n",
    "            bar.set_postfix(loss = loss.item())\n",
    "    \n",
    "    # Record\n",
    "    train_losses.append(sum(epoch_train_losses) / len(epoch_train_losses))\n",
    "    train_accuracies.append(epoch_train_matched / epoch_train_total)\n",
    "    \n",
    "    # Evaluate\n",
    "    bar = tqdm(dl_eval, desc=f\"Validation epoch {epoch}\")\n",
    "    matched = 0\n",
    "    total = 0\n",
    "    epoch_eval_losses = []\n",
    "    \n",
    "    model.eval()\n",
    "    with torch.no_grad():\n",
    "        for batch_x, batch_y, batch_x_lens, batch_y_lens in bar:\n",
    "            predictions = model(batch_x.to(device), batch_x_lens)\n",
    "            \n",
    "            # Calculate validation loss\n",
    "            val_loss = criterion(predictions.view(-1, vocab_size), \n",
    "                               batch_y.to(device).view(-1))\n",
    "            epoch_eval_losses.append(val_loss.item())\n",
    "            \n",
    "            predictions = torch.argmax(predictions, dim=-1)\n",
    "            \n",
    "            for i in range(len(predictions)):\n",
    "                non_zero_indices = torch.nonzero(batch_y[i], as_tuple=True)[0]\n",
    "                if torch.all(predictions[i][non_zero_indices] == batch_y[i][non_zero_indices].to(device)):\n",
    "                    matched += 1\n",
    "                total += 1\n",
    "\n",
    "    current_eval_acc = matched / total\n",
    "    if current_eval_acc > best:\n",
    "        best = current_eval_acc\n",
    "        best_model_weights = deepcopy(model.state_dict())\n",
    "        best_model_epoch = epoch\n",
    "    \n",
    "    # Record\n",
    "    eval_losses.append(sum(epoch_eval_losses) / len(epoch_eval_losses))\n",
    "    eval_accuracies.append(current_eval_acc)\n",
    "    \n",
    "    model.train()\n",
    "    print(f\"Epoch {epoch}\")\n",
    "    print(f\"Training - Loss: {train_losses[-1]:.4f}, Accuracy: {train_accuracies[-1]:.4f}\")\n",
    "    print(f\"Validation - Loss: {eval_losses[-1]:.4f}, Accuracy: {eval_accuracies[-1]:.4f}\")\n",
    "    print(\"-\" * 50)\n",
    "\n",
    "plt.figure(figsize=(12, 4))\n",
    "\n",
    "# Plot loss\n",
    "plt.subplot(1, 2, 1)\n",
    "plt.plot(range(1, epochs + 1), train_losses, label='Train Loss')\n",
    "plt.plot(range(1, epochs + 1), eval_losses, label='Validation Loss')\n",
    "plt.xlabel('Epoch')\n",
    "plt.ylabel('Loss')\n",
    "plt.title('Training and Validation Loss')\n",
    "plt.legend()\n",
    "plt.grid(True)\n",
    "\n",
    "plt.subplot(1, 2, 2)\n",
    "plt.plot(range(1, epochs + 1), train_accuracies, label='Train Accuracy')\n",
    "plt.plot(range(1, epochs + 1), eval_accuracies, label='Validation Accuracy')\n",
    "plt.xlabel('Epoch')\n",
    "plt.ylabel('Accuracy')\n",
    "plt.title('Training and Validation Accuracy')\n",
    "plt.legend()\n",
    "plt.grid(True)\n",
    "\n",
    "plt.tight_layout()\n",
    "plt.show()"
   ]
  },
  {
   "cell_type": "markdown",
   "metadata": {},
   "source": [
    "# Generation\n",
    "Use `model.generator` and provide an initial character to automatically generate a sequence."
   ]
  },
  {
   "cell_type": "code",
   "execution_count": 18,
   "metadata": {},
   "outputs": [
    {
     "data": {
      "text/plain": [
       "<All keys matched successfully>"
      ]
     },
     "execution_count": 18,
     "metadata": {},
     "output_type": "execute_result"
    }
   ],
   "source": [
    "model.load_state_dict(best_model_weights)"
   ]
  },
  {
   "cell_type": "code",
   "execution_count": 19,
   "metadata": {},
   "outputs": [
    {
     "name": "stdout",
     "output_type": "stream",
     "text": [
      "1+1=2\n"
     ]
    }
   ],
   "source": [
    "model = model.to(\"cpu\")\n",
    "print(\"\".join(model.generator('1+1=')))"
   ]
  },
  {
   "cell_type": "code",
   "execution_count": 20,
   "metadata": {},
   "outputs": [
    {
     "name": "stdout",
     "output_type": "stream",
     "text": [
      "加法運算正確率: 94.92%\n",
      "減法運算正確率: 95.52%\n",
      "乘法運算正確率: 74.72%\n",
      "減法運算（正數結果）正確率: 95.53%\n",
      "減法運算（負數結果）正確率: 95.51%\n",
      "範圍外加法運算正確率: 0.00%\n",
      "範圍外減法運算正確率: 6.00%\n",
      "範圍外乘法運算正確率: 0.00%\n"
     ]
    }
   ],
   "source": [
    "# Extra : Test generation accuracy in different way \n",
    "# Code generated by ChatGPT\n",
    "\n",
    "import random\n",
    "\n",
    "def evaluate_model(model, train_range=(1, 50), test_range=(50, 100)):\n",
    "    correct_add = 0\n",
    "    correct_sub = 0\n",
    "    correct_mul = 0\n",
    "    total = 0\n",
    "\n",
    "    sub_positive_correct = 0\n",
    "    sub_negative_correct = 0\n",
    "    sub_positive_total = 0\n",
    "    sub_negative_total = 0\n",
    "\n",
    "    outside_correct_add = 0\n",
    "    outside_correct_sub = 0\n",
    "    outside_correct_mul = 0\n",
    "    outside_total = 0\n",
    "    \n",
    "    # 遍歷1~50的數字，並進行加、減、乘運算\n",
    "    for a in range(train_range[0], train_range[1] + 1):\n",
    "        for b in range(train_range[0], train_range[1] + 1):\n",
    "            # 加法運算\n",
    "            correct_add += evaluate_operation(model, a, b, '+', a + b)\n",
    "            # 減法運算\n",
    "            correct_sub += evaluate_operation(model, a, b, '-', a - b)\n",
    "            # 減法正負數分析\n",
    "            if a - b >= 0:\n",
    "                sub_positive_total += 1\n",
    "                sub_positive_correct += evaluate_operation(model, a, b, '-', a - b)\n",
    "            else:\n",
    "                sub_negative_total += 1\n",
    "                sub_negative_correct += evaluate_operation(model, a, b, '-', a - b)\n",
    "            # 乘法運算\n",
    "            correct_mul += evaluate_operation(model, a, b, '*', a * b)\n",
    "            total += 1\n",
    "\n",
    "    # 測試模型在範圍外的表現，隨機從50~100之間抽樣數字\n",
    "    for _ in range(100):  # 測試100次\n",
    "        a = random.randint(test_range[0], test_range[1])\n",
    "        b = random.randint(test_range[0], test_range[1])\n",
    "        \n",
    "        outside_correct_add += evaluate_operation(model, a, b, '+', a + b)\n",
    "        outside_correct_sub += evaluate_operation(model, a, b, '-', a - b)\n",
    "        outside_correct_mul += evaluate_operation(model, a, b, '*', a * b)\n",
    "        outside_total += 1\n",
    "\n",
    "    # 計算並輸出正確率\n",
    "    print(f\"加法運算正確率: {correct_add / total:.2%}\")\n",
    "    print(f\"減法運算正確率: {correct_sub / total:.2%}\")\n",
    "    print(f\"乘法運算正確率: {correct_mul / total:.2%}\")\n",
    "    \n",
    "    # 正負數的減法運算分析\n",
    "    if sub_positive_total > 0:\n",
    "        print(f\"減法運算（正數結果）正確率: {sub_positive_correct / sub_positive_total:.2%}\")\n",
    "    if sub_negative_total > 0:\n",
    "        print(f\"減法運算（負數結果）正確率: {sub_negative_correct / sub_negative_total:.2%}\")\n",
    "\n",
    "    # 範圍外數字的測試結果\n",
    "    print(f\"範圍外加法運算正確率: {outside_correct_add / outside_total:.2%}\")\n",
    "    print(f\"範圍外減法運算正確率: {outside_correct_sub / outside_total:.2%}\")\n",
    "    print(f\"範圍外乘法運算正確率: {outside_correct_mul / outside_total:.2%}\")\n",
    "\n",
    "def evaluate_operation(model, a, b, operator, correct_result):\n",
    "    \"\"\"生成算式並比較模型的輸出與正確結果\"\"\"\n",
    "    equation = f\"{a}{operator}{b}=\"\n",
    "    model_output = \"\".join(model.generator(equation))  # 使用模型生成答案\n",
    "    model_answer = parse_model_output(model_output)\n",
    "\n",
    "    # 將模型的結果與正確答案比較\n",
    "    if model_answer == str(correct_result):\n",
    "        return 1\n",
    "    else:\n",
    "        return 0\n",
    "\n",
    "def parse_model_output(output):\n",
    "    \"\"\"解析模型輸出的字串，提取等號後到 <eos> 前的部分，並轉換回原本的答案，再轉回 int 型別\"\"\"\n",
    "    result = \"\"\n",
    "    capture = False\n",
    "    for char in output:\n",
    "        if char == '=':\n",
    "            capture = True  # 開始在等號之後提取\n",
    "            continue\n",
    "        if capture:\n",
    "            result += char\n",
    "    \n",
    "    try:\n",
    "        return result  # 將答案轉回 int\n",
    "    except ValueError:\n",
    "        return None  # 如果轉換失敗，回傳 None\n",
    "evaluate_model(model)"
   ]
  },
  {
   "cell_type": "code",
   "execution_count": null,
   "metadata": {},
   "outputs": [],
   "source": [
    "\"\"\"\n",
    "# Save Weights\n",
    "import pickle\n",
    "\n",
    "with open('best_model_weights.pkl', 'wb') as f:\n",
    "    pickle.dump(best_model_weights, f)\n",
    "\"\"\""
   ]
  },
  {
   "cell_type": "code",
   "execution_count": null,
   "metadata": {},
   "outputs": [],
   "source": [
    "\"\"\" \n",
    "# Using RNN GRU\n",
    "class CharRNN(torch.nn.Module):\n",
    "    def __init__(self, vocab_size, embed_dim, hidden_dim):\n",
    "        super(CharRNN, self).__init__()\n",
    "        \n",
    "        self.embedding = torch.nn.Embedding(num_embeddings=vocab_size,\n",
    "                                            embedding_dim=embed_dim,\n",
    "                                            padding_idx=char_to_id['<pad>'])\n",
    "        \n",
    "        self.rnn_layer1 = torch.nn.RNN(input_size=embed_dim,\n",
    "                                        hidden_size=hidden_dim,\n",
    "                                        batch_first=True)\n",
    "        \n",
    "        self.rnn_layer2 = torch.nn.RNN(input_size=hidden_dim,\n",
    "                                        hidden_size=hidden_dim,\n",
    "                                        batch_first=True)\n",
    "        \n",
    "        self.linear = torch.nn.Sequential(torch.nn.Linear(in_features=hidden_dim,\n",
    "                                                          out_features=hidden_dim),\n",
    "                                          torch.nn.ReLU(),\n",
    "                                          torch.nn.Linear(in_features=hidden_dim,\n",
    "                                                          out_features=vocab_size))\n",
    "\n",
    "    def forward(self, batch_x, batch_x_lens):\n",
    "        return self.encoder(batch_x, batch_x_lens)\n",
    "    \n",
    "    # The forward pass of the model\n",
    "    def encoder(self, batch_x, batch_x_lens):\n",
    "        batch_x = self.embedding(batch_x)\n",
    "        \n",
    "        batch_x = torch.nn.utils.rnn.pack_padded_sequence(batch_x,\n",
    "                                                          batch_x_lens,\n",
    "                                                          batch_first=True,\n",
    "                                                          enforce_sorted=False)\n",
    "        \n",
    "        batch_x, _ = self.rnn_layer1(batch_x)\n",
    "        batch_x, _ = self.rnn_layer2(batch_x)\n",
    "        \n",
    "        batch_x, _ = torch.nn.utils.rnn.pad_packed_sequence(batch_x,\n",
    "                                                            batch_first=True)\n",
    "        \n",
    "        batch_x = self.linear(batch_x)\n",
    "        \n",
    "        return batch_x\n",
    "    \n",
    "    def generator(self, start_char, max_len=200):\n",
    "        \n",
    "        char_list = [char_to_id[c] for c in start_char]\n",
    "        \n",
    "        next_char = None\n",
    "        \n",
    "        # https://pytorch.org/docs/stable/generated/torch.nn.GRU.html\n",
    "        while len(char_list) < max_len: \n",
    "            # Write your code here \n",
    "            # Pack the char_list to tensor\n",
    "            # Input the tensor to the embedding layer, GRU layers, linear respectively\n",
    "            x = torch.tensor([char_to_id['<eos>']] + char_list).unsqueeze(0)\n",
    "\n",
    "            x = self.embedding(x)\n",
    "            h1 = torch.zeros(1, 1, hidden_dim)  # Initial hidden state for GRU\n",
    "            x1, _ = self.rnn_layer1(x, h1)\n",
    "            h2 = torch.zeros(1, 1, hidden_dim)  # Initial hidden state for GRU\n",
    "            x2, _ = self.rnn_layer2(x1, h2)\n",
    "            out = self.linear(x2) \n",
    "            next_char = torch.argmax(out[0, -1]).item()\n",
    "            \n",
    "            if next_char == char_to_id['<eos>']:\n",
    "                break\n",
    "            \n",
    "            char_list.append(next_char)\n",
    "            \n",
    "        return [id_to_char[ch_id] for ch_id in char_list]\n",
    "\"\"\""
   ]
  }
 ],
 "metadata": {
  "kernelspec": {
   "display_name": "nlp",
   "language": "python",
   "name": "nlp"
  },
  "language_info": {
   "codemirror_mode": {
    "name": "ipython",
    "version": 3
   },
   "file_extension": ".py",
   "mimetype": "text/x-python",
   "name": "python",
   "nbconvert_exporter": "python",
   "pygments_lexer": "ipython3",
   "version": "3.9.20"
  }
 },
 "nbformat": 4,
 "nbformat_minor": 4
}
